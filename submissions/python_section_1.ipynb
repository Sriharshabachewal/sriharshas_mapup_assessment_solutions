{
 "cells": [
  {
   "cell_type": "code",
   "execution_count": null,
   "id": "initial_id",
   "metadata": {
    "collapsed": true
   },
   "outputs": [],
   "source": [
    "# Question_1\n",
    "\n",
    "def reverse_groups(lst, n):\n",
    "    l = []\n",
    "    k = len(lst)\n",
    "    for i in range(0, k, n):\n",
    "        group = []\n",
    "        for j in range(min(n, k - i)):\n",
    "            group.insert(0, lst[i + j])\n",
    "        l.extend(group)\n",
    "    return l\n",
    "\n",
    "input_list = [1, 2, 3, 4, 5]\n",
    "n = 2\n",
    "output = reverse_groups(input_list, n)\n",
    "print(output) "
   ]
  },
  {
   "cell_type": "code",
   "execution_count": 1,
   "outputs": [
    {
     "name": "stdout",
     "output_type": "stream",
     "text": [
      "{3: ['bat', 'car', 'dog'], 4: ['bear'], 5: ['apple'], 8: ['elephant']}\n"
     ]
    }
   ],
   "source": [
    "#Question_2\n",
    "\n",
    "def group_by_length(lst):\n",
    "    d={}\n",
    "    for i in lst:\n",
    "        n=len(i)\n",
    "        if n not in d:\n",
    "            d[n]=[]\n",
    "        d[n].append(i)\n",
    "    return dict(sorted(d.items()))\n",
    "\n",
    "lst= [\"apple\", \"bat\", \"car\", \"elephant\", \"dog\", \"bear\"]\n",
    "out=group_by_length(lst)\n",
    "print(out)"
   ],
   "metadata": {
    "collapsed": false,
    "ExecuteTime": {
     "end_time": "2024-10-22T11:12:28.540380200Z",
     "start_time": "2024-10-22T11:12:28.525821500Z"
    }
   },
   "id": "f41adfaa0351177c"
  },
  {
   "cell_type": "code",
   "execution_count": 2,
   "outputs": [
    {
     "name": "stdout",
     "output_type": "stream",
     "text": [
      "{'road.name': 'Highway 1', 'road.length': 350, 'road.sections[0].id': 1, 'road.sections[0].condition.pavement': 'good', 'road.sections[0].condition.traffic': 'moderate'}\n"
     ]
    }
   ],
   "source": [
    "#question_3\n",
    "\n",
    "def flatten_dict(d, parent_key='', sep='.'):\n",
    "    flattened = {}\n",
    "    for key, value in d.items():\n",
    "        new_key = f\"{parent_key}{sep}{key}\" if parent_key else key\n",
    "        if isinstance(value, dict):\n",
    "            flattened.update(flatten_dict(value, new_key, sep=sep))\n",
    "        elif isinstance(value, list):\n",
    "            for i, item in enumerate(value):\n",
    "                list_key = f\"{new_key}[{i}]\"\n",
    "                if isinstance(item, dict):\n",
    "                    flattened.update(flatten_dict(item, list_key, sep=sep))\n",
    "                else:\n",
    "                    flattened[list_key] = item\n",
    "        else:\n",
    "            flattened[new_key] = value\n",
    "    \n",
    "    return flattened\n",
    "\n",
    "nested_dict = {\n",
    "    \"road\": {\n",
    "        \"name\": \"Highway 1\",\n",
    "        \"length\": 350,\n",
    "        \"sections\": [\n",
    "            {\n",
    "                \"id\": 1,\n",
    "                \"condition\": {\n",
    "                    \"pavement\": \"good\",\n",
    "                    \"traffic\": \"moderate\"\n",
    "                }\n",
    "            }\n",
    "        ]\n",
    "    }\n",
    "}\n",
    "\n",
    "\n",
    "flattened_dict = flatten_dict(nested_dict)\n",
    "print(flattened_dict)\n"
   ],
   "metadata": {
    "collapsed": false,
    "ExecuteTime": {
     "end_time": "2024-10-22T11:24:09.492546Z",
     "start_time": "2024-10-22T11:24:09.479793400Z"
    }
   },
   "id": "d7238be2339192c9"
  },
  {
   "cell_type": "code",
   "execution_count": 3,
   "outputs": [
    {
     "name": "stdout",
     "output_type": "stream",
     "text": [
      "[[1, 2, 1], [2, 1, 1], [1, 1, 2]]\n"
     ]
    }
   ],
   "source": [
    "#Question_4\n",
    "\n",
    "import itertools\n",
    "\n",
    "def unique_permutations(nums):\n",
    "    perms = itertools.permutations(nums)\n",
    "    unique_perms = set(perms)\n",
    "    return [list(perm) for perm in unique_perms]\n",
    "\n",
    "nums = [1, 1, 2]\n",
    "result = unique_permutations(nums)\n",
    "print(result)\n"
   ],
   "metadata": {
    "collapsed": false,
    "ExecuteTime": {
     "end_time": "2024-10-22T11:30:26.417735800Z",
     "start_time": "2024-10-22T11:30:26.401262700Z"
    }
   },
   "id": "8fb552e86c00f002"
  },
  {
   "cell_type": "code",
   "execution_count": 4,
   "outputs": [
    {
     "name": "stdout",
     "output_type": "stream",
     "text": [
      "['23-08-1994', '08/23/1994', '1994.08.23']\n"
     ]
    }
   ],
   "source": [
    "#Question_5\n",
    "\n",
    "import re\n",
    "\n",
    "def find_all_dates(text):\n",
    "    date_pattern = r'\\b(?:\\d{2}-\\d{2}-\\d{4}|\\d{2}/\\d{2}/\\d{4}|\\d{4}\\.\\d{2}\\.\\d{2})\\b'\n",
    "    dates = re.findall(date_pattern, text)\n",
    "    return dates\n",
    "\n",
    "text = \"I was born on 23-08-1994, my friend on 08/23/1994, and another one on 1994.08.23.\"\n",
    "result = find_all_dates(text)\n",
    "print(result)\n"
   ],
   "metadata": {
    "collapsed": false,
    "ExecuteTime": {
     "end_time": "2024-10-22T11:41:00.143643200Z",
     "start_time": "2024-10-22T11:41:00.133696500Z"
    }
   },
   "id": "ca6e62d57fdab646"
  },
  {
   "cell_type": "code",
   "execution_count": 6,
   "outputs": [
    {
     "name": "stdout",
     "output_type": "stream",
     "text": [
      "Collecting polyline\n",
      "  Downloading polyline-2.0.2-py3-none-any.whl.metadata (6.4 kB)\n",
      "Downloading polyline-2.0.2-py3-none-any.whl (6.0 kB)\n",
      "Installing collected packages: polyline\n",
      "Successfully installed polyline-2.0.2\n"
     ]
    }
   ],
   "source": [
    "#!pip install polyline\n"
   ],
   "metadata": {
    "collapsed": false,
    "ExecuteTime": {
     "end_time": "2024-10-22T11:47:06.794847800Z",
     "start_time": "2024-10-22T11:46:52.297659400Z"
    }
   },
   "id": "4f9212fce1700a27"
  },
  {
   "cell_type": "code",
   "execution_count": 8,
   "outputs": [
    {
     "name": "stdout",
     "output_type": "stream",
     "text": [
      "   latitude  longitude       distance\n",
      "0    38.500   -120.200       0.000000\n",
      "1    40.700   -120.950  252924.435162\n",
      "2    43.252   -126.453  535981.434984\n"
     ]
    }
   ],
   "source": [
    "#Question_6\n",
    "\n",
    "import polyline\n",
    "import pandas as pd\n",
    "import numpy as np\n",
    "\n",
    "def haversine(lat1, lon1, lat2, lon2):\n",
    "    lat1, lon1, lat2, lon2 = map(np.radians, [lat1, lon1, lat2, lon2])\n",
    "    dlon = lon2 - lon1 \n",
    "    dlat = lat2 - lat1 \n",
    "    a = np.sin(dlat/2)**2 + np.cos(lat1) * np.cos(lat2) * np.sin(dlon/2)**2\n",
    "    c = 2 * np.arcsin(np.sqrt(a)) \n",
    "    r = 6371000 \n",
    "    return c * r\n",
    "\n",
    "def decode_polyline_and_calculate_distances(polyline_str):\n",
    "    coordinates = polyline.decode(polyline_str)\n",
    "\n",
    "    df = pd.DataFrame(coordinates, columns=['latitude', 'longitude'])\n",
    "    distances = [0] \n",
    "    for i in range(1, len(df)):\n",
    "        lat1, lon1 = df.iloc[i - 1]\n",
    "        lat2, lon2 = df.iloc[i]\n",
    "        distance = haversine(lat1, lon1, lat2, lon2)\n",
    "        distances.append(distance)\n",
    "    df['distance'] = distances\n",
    "    return df\n",
    "\n",
    "\n",
    "polyline_str = \"_p~iF~ps|U_ulLnnqC_mqNvxq`@\"\n",
    "result_df = decode_polyline_and_calculate_distances(polyline_str)\n",
    "print(result_df)\n"
   ],
   "metadata": {
    "collapsed": false,
    "ExecuteTime": {
     "end_time": "2024-10-22T11:47:34.081880900Z",
     "start_time": "2024-10-22T11:47:31.572108900Z"
    }
   },
   "id": "fdfe93947ee58e40"
  },
  {
   "cell_type": "code",
   "execution_count": 9,
   "outputs": [
    {
     "name": "stdout",
     "output_type": "stream",
     "text": [
      "Final Transformed Matrix:\n",
      "[29, 23, 17]\n",
      "[31, 25, 19]\n",
      "[33, 27, 21]\n"
     ]
    }
   ],
   "source": [
    "#Question_7\n",
    "\n",
    "def rotate_and_transform_matrix(matrix):\n",
    "    n = len(matrix)\n",
    "    \n",
    "    rotated_matrix = [[matrix[n - j - 1][i] for j in range(n)] for i in range(n)]\n",
    "    final_matrix = [[0] * n for _ in range(n)]\n",
    "    \n",
    "    for i in range(n):\n",
    "        for j in range(n):\n",
    "            row_sum = sum(rotated_matrix[i])\n",
    "            col_sum = sum(rotated_matrix[k][j] for k in range(n))\n",
    "            final_matrix[i][j] = row_sum + col_sum - rotated_matrix[i][j]\n",
    "    return final_matrix\n",
    "\n",
    "\n",
    "matrix = [[1, 2, 3],\n",
    "          [4, 5, 6],\n",
    "          [7, 8, 9]]\n",
    "\n",
    "result = rotate_and_transform_matrix(matrix)\n",
    "\n",
    "print(\"Final Transformed Matrix:\")\n",
    "for row in result:\n",
    "    print(row)\n"
   ],
   "metadata": {
    "collapsed": false,
    "ExecuteTime": {
     "end_time": "2024-10-22T11:53:32.332787400Z",
     "start_time": "2024-10-22T11:53:32.298533Z"
    }
   },
   "id": "51cc24084c71d554"
  },
  {
   "cell_type": "code",
   "execution_count": null,
   "outputs": [],
   "source": [
    "#Question_8\n",
    "\n",
    "def check_time_data_completeness(df):\n",
    "    df['start_timestamp'] = pd.to_datetime(df['startDay'] + ' ' + df['startTime'], format='%Y-%m-%d %H:%M:%S', errors='coerce')\n",
    "    df['end_timestamp'] = pd.to_datetime(df['endDay'] + ' ' + df['endTime'], format='%Y-%m-%d %H:%M:%S', errors='coerce')\n",
    "    \n",
    "    grouped = df.groupby(['mid', 'mid_2'])\n",
    "\n",
    "    def is_complete(group):\n",
    "        start_time = group['start_timestamp'].min()\n",
    "        end_time = group['end_timestamp'].max()\n",
    "        covers_24_hours = (end_time - start_time).total_seconds() >= 86400  \n",
    "        unique_days = group['start_timestamp'].dt.dayofweek.nunique()  \n",
    "        covers_all_days = unique_days == 7\n",
    "\n",
    "        return not (covers_24_hours and covers_all_days)\n",
    "    completeness_check = grouped.apply(is_complete)\n",
    "\n",
    "    return completeness_check\n",
    "\n",
    "df = pd.read_csv(\"C:\\\\Users\\\\Malli\\\\Downloads\\\\dataset-1.csv\")\n",
    "\n",
    "result = check_time_data_completeness(df)\n",
    "print(result)\n"
   ],
   "metadata": {
    "collapsed": false
   },
   "id": "aba51df95990fc7d"
  }
 ],
 "metadata": {
  "kernelspec": {
   "display_name": "Python 3",
   "language": "python",
   "name": "python3"
  },
  "language_info": {
   "codemirror_mode": {
    "name": "ipython",
    "version": 2
   },
   "file_extension": ".py",
   "mimetype": "text/x-python",
   "name": "python",
   "nbconvert_exporter": "python",
   "pygments_lexer": "ipython2",
   "version": "2.7.6"
  }
 },
 "nbformat": 4,
 "nbformat_minor": 5
}
